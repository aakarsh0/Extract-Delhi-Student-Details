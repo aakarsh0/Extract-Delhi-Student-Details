{
 "cells": [
  {
   "cell_type": "code",
   "execution_count": 53,
   "metadata": {},
   "outputs": [
    {
     "name": "stdout",
     "output_type": "stream",
     "text": [
      "khan\n"
     ]
    }
   ],
   "source": [
    "fileName = 'sheet2.xlsx'"
   ]
  },
  {
   "cell_type": "code",
   "execution_count": 54,
   "metadata": {},
   "outputs": [
    {
     "name": "stdout",
     "output_type": "stream",
     "text": [
      "     स्टूडेंट  ID                                              links\n",
      "0    2.010024e+10  http://edustud.nic.in/mis/Student/Student/frmS...\n",
      "1    2.010024e+10  http://edustud.nic.in/mis/Student/Student/frmS...\n",
      "2    2.011017e+10  http://edustud.nic.in/mis/Student/Student/frmS...\n",
      "3    2.015004e+10  http://edustud.nic.in/mis/Student/Student/frmS...\n",
      "4    2.015014e+10  http://edustud.nic.in/mis/Student/Student/frmS...\n",
      "..            ...                                                ...\n",
      "563  2.017029e+10  http://edustud.nic.in/mis/Student/Student/frmS...\n",
      "564  2.012004e+10  http://edustud.nic.in/mis/Student/Student/frmS...\n",
      "565  2.014011e+10  http://edustud.nic.in/mis/Student/Student/frmS...\n",
      "566  2.016018e+10  http://edustud.nic.in/mis/Student/Student/frmS...\n",
      "567  2.017023e+10  http://edustud.nic.in/mis/Student/Student/frmS...\n",
      "\n",
      "[568 rows x 2 columns]\n"
     ]
    },
    {
     "name": "stderr",
     "output_type": "stream",
     "text": [
      "/var/folders/_s/hx08wwqn7jl0mydk_ww6qvm40000gn/T/ipykernel_34135/985279881.py:6: DeprecationWarning: Call to deprecated function get_sheet_by_name (Use wb[sheetname]).\n",
      "  ws = wb.get_sheet_by_name('Sheet1')\n"
     ]
    }
   ],
   "source": [
    "import pandas as pd\n",
    "df = pd.read_excel(fileName)\n",
    "import openpyxl\n",
    "\n",
    "wb = openpyxl.load_workbook(fileName)\n",
    "ws = wb.get_sheet_by_name('Sheet1')\n",
    "\n",
    "links = []\n",
    "\n",
    "for i in range(1,1000):\n",
    "    if ws.cell(row=i,column=1).hyperlink is not None:\n",
    "        links.append(ws.cell(row=i, column=1).hyperlink.target)\n",
    "\n",
    "df['links'] = links\n",
    "\n",
    "print(df)"
   ]
  },
  {
   "cell_type": "code",
   "execution_count": 36,
   "metadata": {},
   "outputs": [],
   "source": [
    "import requests\n",
    "\n",
    "def getHtmlText(url):\n",
    "    html = requests.get(url)\n",
    "    htmltext = html.text\n",
    "    return htmltext"
   ]
  },
  {
   "cell_type": "code",
   "execution_count": 37,
   "metadata": {},
   "outputs": [],
   "source": [
    "def getNameDetails(htmltext):\n",
    "    finder = 'Name</TD><TD class=MISLabel>'\n",
    "    firstIndex = htmltext.find(finder)\n",
    "    name = htmltext[firstIndex+28:firstIndex+50]\n",
    "    secondIndex = htmltext.find(finder,firstIndex+20)\n",
    "    fatherName = htmltext[secondIndex+28:secondIndex+50]\n",
    "    thirdIndex = htmltext.find(finder,secondIndex+20)\n",
    "    motherName = htmltext[thirdIndex+28:thirdIndex+50]\n",
    "\n",
    "    name = name[:name.find('<')]\n",
    "    fatherName = fatherName[:fatherName.find('<')]\n",
    "    motherName = motherName[:motherName.find('<')]\n",
    "    return [name,fatherName,motherName]\n",
    "    # print(htmltext[matchIndex:matchIndex+30])\n",
    "\n",
    "def getAddress(htmltext):\n",
    "    finder = 'Address</TD><TD class=MISLabel width=25%>'\n",
    "    pinCodeFinder = 'Pin Code</TD><TD class=MISLabel>'\n",
    "    firstIndex = htmltext.find(finder)\n",
    "    address = htmltext[firstIndex+41:firstIndex+150]\n",
    "    address = address[:address.find('<')]\n",
    "    pinCodeFirstIndex = htmltext.find(pinCodeFinder)\n",
    "    pinCode = htmltext[pinCodeFirstIndex+32:pinCodeFirstIndex+38]\n",
    "    return address+', '+pinCode"
   ]
  },
  {
   "cell_type": "code",
   "execution_count": 40,
   "metadata": {},
   "outputs": [
    {
     "name": "stdout",
     "output_type": "stream",
     "text": [
      "['KRITIKA  ', 'DEEPIKA  ', 'KAVITA  ', 'RUKSANA  KHATOON', 'KASHISH  ', 'SHRADHA  ', 'SABRIN  ', 'SUBHAN  ', 'MOHD ASAD ', 'ABDUL REHMAN  ', 'NAMAN  VERMA', 'JITENDER  SINGH', 'AMAAN  ', 'RAJ  ', 'LABIB  WARSI', 'ZIYAN  KHAN', 'AZEEMUDDIN  ', 'AMISH ALI HASHMI', 'MD  HAMI', 'NEHA  ']\n",
      "['MADAN KUMAR', 'VINAY KUMAR', 'HEERA BAHADUR', 'MOHD NAIM', 'OMKAR', 'PARMOD KUMAR', 'RIZWAN', 'SALIM', 'MOHD. SALEEM', 'IQBAL', 'LATE RAKESH VERMA', 'MAHENDER SINGH', 'FARUQ AHMED', 'VINOD VERMA', 'IMRAN HUSSAIN', 'SARWAR KHAN', 'SALEEM', 'ANEES ALI', 'SHAHIM KHAN', 'DEVRAJ SINGH']\n",
      "['SEEMA', 'SHREE WATI', 'DEEPA', 'RAHISA KHATOON', 'PUJA', 'POOJA', 'SHABNAM', 'ZEENAT', 'MASHQOOR JAHAN', 'SHAMINA', 'RAJ BALA', 'ASHA', 'IMRANA', 'RADHA VERMA', 'MEENA', 'NISHA KHAN', 'UZMA', 'SHAGUFTA ANEES', 'IZRA BANO', 'URMILA DEVI']\n"
     ]
    }
   ],
   "source": [
    "testLinks = links[30:50]\n",
    "\n",
    "names = []\n",
    "fatherNames = []\n",
    "motherNames = []\n",
    "for link in testLinks:\n",
    "    htmltext = getHtmlText(link)\n",
    "    details = getNameDetails(htmltext)\n",
    "    names.append(details[0])\n",
    "    fatherNames.append(details[1])\n",
    "    motherNames.append(details[2])\n",
    "\n",
    "print(names)\n",
    "print(fatherNames)\n",
    "print(motherNames)"
   ]
  },
  {
   "cell_type": "code",
   "execution_count": 56,
   "metadata": {},
   "outputs": [],
   "source": [
    "names = []\n",
    "fatherNames = []\n",
    "motherNames = []\n",
    "addresses = []\n",
    "\n",
    "for link in links:\n",
    "    htmltext = getHtmlText(link)\n",
    "    nameDetails = getNameDetails(htmltext)\n",
    "    address = getAddress(htmltext)\n",
    "    names.append(nameDetails[0])\n",
    "    fatherNames.append(nameDetails[1])\n",
    "    motherNames.append(nameDetails[2])\n",
    "    addresses.append(address)\n",
    "\n",
    "df['name'] = names\n",
    "df['fatherName'] = fatherNames\n",
    "df['motherName'] = motherNames\n",
    "\n",
    "df['address'] = addresses"
   ]
  },
  {
   "cell_type": "code",
   "execution_count": 50,
   "metadata": {},
   "outputs": [
    {
     "name": "stdout",
     "output_type": "stream",
     "text": [
      "3/472 TRILOK PURI,Trilokpuri, 110091\n"
     ]
    }
   ],
   "source": [
    "\n",
    "# saving the excel\n",
    "df.to_excel(fileName)"
   ]
  },
  {
   "cell_type": "code",
   "execution_count": null,
   "metadata": {},
   "outputs": [],
   "source": []
  }
 ],
 "metadata": {
  "interpreter": {
   "hash": "31f2aee4e71d21fbe5cf8b01ff0e069b9275f58929596ceb00d14d90e3e16cd6"
  },
  "kernelspec": {
   "display_name": "Python 3.8.9 64-bit",
   "language": "python",
   "name": "python3"
  },
  "language_info": {
   "codemirror_mode": {
    "name": "ipython",
    "version": 3
   },
   "file_extension": ".py",
   "mimetype": "text/x-python",
   "name": "python",
   "nbconvert_exporter": "python",
   "pygments_lexer": "ipython3",
   "version": "3.8.9"
  },
  "orig_nbformat": 4
 },
 "nbformat": 4,
 "nbformat_minor": 2
}
