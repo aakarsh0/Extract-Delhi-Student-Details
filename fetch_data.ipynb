{
 "cells": [
  {
   "cell_type": "code",
   "execution_count": null,
   "metadata": {},
   "outputs": [],
   "source": [
    "fileName = 'sheet2.xlsx'"
   ]
  },
  {
   "cell_type": "code",
   "execution_count": null,
   "metadata": {},
   "outputs": [],
   "source": [
    "import pandas as pd\n",
    "df = pd.read_excel(fileName)\n",
    "import openpyxl\n",
    "\n",
    "wb = openpyxl.load_workbook(fileName)\n",
    "ws = wb.get_sheet_by_name('Sheet1')\n",
    "\n",
    "links = []\n",
    "\n",
    "for i in range(1,1000):\n",
    "    if ws.cell(row=i,column=1).hyperlink is not None:\n",
    "        links.append(ws.cell(row=i, column=1).hyperlink.target)\n",
    "\n",
    "df['links'] = links\n",
    "\n",
    "print(df)"
   ]
  },
  {
   "cell_type": "code",
   "execution_count": null,
   "metadata": {},
   "outputs": [],
   "source": [
    "import requests\n",
    "\n",
    "def getHtmlText(url):\n",
    "    html = requests.get(url)\n",
    "    htmltext = html.text\n",
    "    return htmltext"
   ]
  },
  {
   "cell_type": "code",
   "execution_count": null,
   "metadata": {},
   "outputs": [],
   "source": [
    "def getNameDetails(htmltext):\n",
    "    finder = 'Name</TD><TD class=MISLabel>'\n",
    "    firstIndex = htmltext.find(finder)\n",
    "    name = htmltext[firstIndex+28:firstIndex+50]\n",
    "    secondIndex = htmltext.find(finder,firstIndex+20)\n",
    "    fatherName = htmltext[secondIndex+28:secondIndex+50]\n",
    "    thirdIndex = htmltext.find(finder,secondIndex+20)\n",
    "    motherName = htmltext[thirdIndex+28:thirdIndex+50]\n",
    "\n",
    "    name = name[:name.find('<')]\n",
    "    fatherName = fatherName[:fatherName.find('<')]\n",
    "    motherName = motherName[:motherName.find('<')]\n",
    "    return [name,fatherName,motherName]\n",
    "    # print(htmltext[matchIndex:matchIndex+30])\n",
    "\n",
    "def getAddress(htmltext):\n",
    "    finder = 'Address</TD><TD class=MISLabel width=25%>'\n",
    "    pinCodeFinder = 'Pin Code</TD><TD class=MISLabel>'\n",
    "    firstIndex = htmltext.find(finder)\n",
    "    address = htmltext[firstIndex+41:firstIndex+150]\n",
    "    address = address[:address.find('<')]\n",
    "    pinCodeFirstIndex = htmltext.find(pinCodeFinder)\n",
    "    pinCode = htmltext[pinCodeFirstIndex+32:pinCodeFirstIndex+38]\n",
    "    return address+', '+pinCode"
   ]
  },
  {
   "cell_type": "code",
   "execution_count": null,
   "metadata": {},
   "outputs": [],
   "source": [
    "testLinks = links[30:50]\n",
    "\n",
    "names = []\n",
    "fatherNames = []\n",
    "motherNames = []\n",
    "for link in testLinks:\n",
    "    htmltext = getHtmlText(link)\n",
    "    details = getNameDetails(htmltext)\n",
    "    names.append(details[0])\n",
    "    fatherNames.append(details[1])\n",
    "    motherNames.append(details[2])\n",
    "\n",
    "print(names)\n",
    "print(fatherNames)\n",
    "print(motherNames)"
   ]
  },
  {
   "cell_type": "code",
   "execution_count": null,
   "metadata": {},
   "outputs": [],
   "source": [
    "names = []\n",
    "fatherNames = []\n",
    "motherNames = []\n",
    "addresses = []\n",
    "\n",
    "for link in links:\n",
    "    htmltext = getHtmlText(link)\n",
    "    nameDetails = getNameDetails(htmltext)\n",
    "    address = getAddress(htmltext)\n",
    "    names.append(nameDetails[0])\n",
    "    fatherNames.append(nameDetails[1])\n",
    "    motherNames.append(nameDetails[2])\n",
    "    addresses.append(address)\n",
    "\n",
    "df['name'] = names\n",
    "df['fatherName'] = fatherNames\n",
    "df['motherName'] = motherNames\n",
    "\n",
    "df['address'] = addresses"
   ]
  },
  {
   "cell_type": "code",
   "execution_count": null,
   "metadata": {},
   "outputs": [],
   "source": [
    "\n",
    "# saving the excel\n",
    "df.to_excel(fileName)"
   ]
  },
  {
   "cell_type": "code",
   "execution_count": null,
   "metadata": {},
   "outputs": [],
   "source": []
  }
 ],
 "metadata": {
  "interpreter": {
   "hash": "31f2aee4e71d21fbe5cf8b01ff0e069b9275f58929596ceb00d14d90e3e16cd6"
  },
  "kernelspec": {
   "display_name": "Python 3.8.9 64-bit",
   "language": "python",
   "name": "python3"
  },
  "language_info": {
   "codemirror_mode": {
    "name": "ipython",
    "version": 3
   },
   "file_extension": ".py",
   "mimetype": "text/x-python",
   "name": "python",
   "nbconvert_exporter": "python",
   "pygments_lexer": "ipython3",
   "version": "3.8.9"
  },
  "orig_nbformat": 4
 },
 "nbformat": 4,
 "nbformat_minor": 2
}
